{
 "cells": [
  {
   "cell_type": "code",
   "execution_count": null,
   "id": "d120bbda",
   "metadata": {},
   "outputs": [],
   "source": [
    "from pydub.generators import Sine\n",
    "from pydub import AudioSegment\n",
    "\n",
    "# Criando instrumentos simulados com ondas senoidais\n",
    "piano = Sine(440).to_audio_segment(duration=1000).fade_in(200).fade_out(200)  # A4\n",
    "harp = Sine(660).to_audio_segment(duration=500).fade_in(100).fade_out(100)   # E5\n",
    "strings = Sine(220).to_audio_segment(duration=1000).fade_in(300).fade_out(300)  # A3\n",
    "\n",
    "# Combinando em um loop de 1 minuto\n",
    "loop = AudioSegment.silent(duration=0)\n",
    "for _ in range(30):  # 30 * 2 segundos = 60s\n",
    "    bar = piano.overlay(strings)\n",
    "    if _ % 2 == 0:\n",
    "        bar = bar.overlay(harp)\n",
    "    loop += bar\n",
    "\n",
    "# Exportando o áudio\n",
    "loop.export(\"final_fantasy_trilha_loop.mp3\", format=\"mp3\")\n",
    "print(\"Arquivo gerado: final_fantasy_trilha_loop.mp3\")"
   ]
  }
 ],
 "metadata": {
  "language_info": {
   "name": "python"
  }
 },
 "nbformat": 4,
 "nbformat_minor": 5
}
